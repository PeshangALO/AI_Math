{
 "cells": [
  {
   "cell_type": "code",
   "execution_count": 4,
   "id": "acoustic-running",
   "metadata": {},
   "outputs": [],
   "source": [
    "from numpy import arange\n",
    "from matplotlib import pyplot\n",
    "from numpy import asarray\n",
    "from numpy.random import rand\n",
    "from numpy.random import seed"
   ]
  },
  {
   "cell_type": "markdown",
   "id": "bigger-niger",
   "metadata": {},
   "source": [
    "Define the objective function to be f(x) = x^2. Next define its derivative."
   ]
  },
  {
   "cell_type": "code",
   "execution_count": 69,
   "id": "insured-center",
   "metadata": {},
   "outputs": [],
   "source": [
    "def objective(x):\n",
    "    return x**4 - 2*x**3 + 3*x\n",
    "\n",
    "   "
   ]
  },
  {
   "cell_type": "code",
   "execution_count": 70,
   "id": "acute-ebony",
   "metadata": {},
   "outputs": [],
   "source": [
    "# derivative of objective function\n",
    "def derivative(x):\n",
    "    return 4*x**3 - 6*x**2 + 3"
   ]
  },
  {
   "cell_type": "code",
   "execution_count": 71,
   "id": "fewer-vermont",
   "metadata": {},
   "outputs": [],
   "source": [
    "# define range for input\n",
    "r_min, r_max = -1.0, 1.0\n",
    "# sample input range uniformly at 0.1 increments\n",
    "inputs = arange(r_min, r_max+0.1, 0.1)\n",
    "# compute targets\n",
    "results = objective(inputs)"
   ]
  },
  {
   "cell_type": "code",
   "execution_count": 72,
   "id": "quantitative-chrome",
   "metadata": {},
   "outputs": [
    {
     "data": {
      "image/png": "[encoded data removed]",
      "text/plain": [
       "<Figure size 432x288 with 1 Axes>"
      ]
     },
     "metadata": {
      "needs_background": "light"
     },
     "output_type": "display_data"
    }
   ],
   "source": [
    "# create a line plot of input vs result\n",
    "pyplot.plot(inputs, results)\n",
    "# show the plot\n",
    "pyplot.show()"
   ]
  },
  {
   "cell_type": "markdown",
   "id": "vocational-underground",
   "metadata": {},
   "source": [
    "Next we need to define our Vanilla Gradient Descent. We will be storing all our scores along the way so that we can get a neat little plot at the end."
   ]
  },
  {
   "cell_type": "code",
   "execution_count": 73,
   "id": "lonely-shade",
   "metadata": {},
   "outputs": [],
   "source": [
    "def gradient_descent(objective, derivative, bounds, n_iter, step_size):\n",
    "\t# track all solutions\n",
    "\tsolutions, scores = list(), list()\n",
    "\t# generate an initial point\n",
    "\tsolution = bounds[:, 0] + rand(len(bounds)) * (bounds[:, 1] - bounds[:, 0])\n",
    "\t# run the gradient descent\n",
    "\tfor i in range(n_iter):\n",
    "\t\t# calculate gradient\n",
    "\t\tgradient = derivative(solution)\n",
    "\t\t# take a step\n",
    "\t\tsolution = solution - step_size * gradient\n",
    "\t\t# evaluate candidate point\n",
    "\t\tsolution_eval = objective(solution)\n",
    "\t\t# store solution\n",
    "\t\tsolutions.append(solution)\n",
    "\t\tscores.append(solution_eval)\n",
    "\t\t# report progress\n",
    "\t\tprint('>%d f(%s) = %.5f' % (i, solution, solution_eval))\n",
    "\treturn [solutions, scores]"
   ]
  },
  {
   "cell_type": "code",
   "execution_count": 74,
   "id": "bottom-length",
   "metadata": {},
   "outputs": [
    {
     "name": "stdout",
     "output_type": "stream",
     "text": [
      ">0 f([0.83156549]) = 1.82281\n",
      ">1 f([0.71645479]) = 1.67733\n",
      ">2 f([0.57733463]) = 1.45823\n",
      ">3 f([0.40035001]) = 1.09840\n",
      ">4 f([0.17085083]) = 0.50343\n",
      ">5 f([-0.11363002]) = -0.33779\n",
      ">6 f([-0.40529609]) = -1.05575\n",
      ">7 f([-0.58010676]) = -1.23663\n",
      ">8 f([-0.60010454]) = -1.23840\n",
      ">9 f([-0.5975841]) = -1.23842\n",
      ">10 f([-0.59795952]) = -1.23843\n",
      ">11 f([-0.59790466]) = -1.23843\n",
      ">12 f([-0.5979127]) = -1.23843\n",
      ">13 f([-0.59791152]) = -1.23843\n",
      ">14 f([-0.59791169]) = -1.23843\n",
      ">15 f([-0.59791167]) = -1.23843\n",
      ">16 f([-0.59791167]) = -1.23843\n",
      ">17 f([-0.59791167]) = -1.23843\n",
      ">18 f([-0.59791167]) = -1.23843\n",
      ">19 f([-0.59791167]) = -1.23843\n",
      ">20 f([-0.59791167]) = -1.23843\n",
      ">21 f([-0.59791167]) = -1.23843\n",
      ">22 f([-0.59791167]) = -1.23843\n",
      ">23 f([-0.59791167]) = -1.23843\n",
      ">24 f([-0.59791167]) = -1.23843\n",
      ">25 f([-0.59791167]) = -1.23843\n",
      ">26 f([-0.59791167]) = -1.23843\n",
      ">27 f([-0.59791167]) = -1.23843\n",
      ">28 f([-0.59791167]) = -1.23843\n",
      ">29 f([-0.59791167]) = -1.23843\n"
     ]
    },
    {
     "data": {
      "image/png": "[encoded data removed]",
      "text/plain": [
       "<Figure size 432x288 with 1 Axes>"
      ]
     },
     "metadata": {
      "needs_background": "light"
     },
     "output_type": "display_data"
    }
   ],
   "source": [
    "# seed the pseudo random number generator\n",
    "seed(4)\n",
    "# define range for input\n",
    "bounds = asarray([[-1.0, 1.0]])\n",
    "# define the total iterations\n",
    "n_iter = 30\n",
    "# define the step size\n",
    "step_size = 0.1\n",
    "# perform the gradient descent search\n",
    "solutions, scores = gradient_descent(objective, derivative, bounds, n_iter, step_size)\n",
    "# sample input range uniformly at 0.1 increments\n",
    "inputs = arange(bounds[0,0], bounds[0,1]+0.1, 0.1)\n",
    "# compute targets\n",
    "results = objective(inputs)\n",
    "# create a line plot of input vs result\n",
    "pyplot.plot(inputs, results)\n",
    "# plot the solutions found\n",
    "pyplot.plot(solutions, scores, '.-', color='red')\n",
    "# show the plot\n",
    "pyplot.show()"
   ]
  },
  {
   "cell_type": "code",
   "execution_count": 75,
   "id": "spatial-accommodation",
   "metadata": {},
   "outputs": [],
   "source": [
    "def gradient_descent_with_momentum(objective, derivative, bounds, n_iter, step_size, momentum):\n",
    "\t# track all solutions\n",
    "\tsolutions, scores = list(), list()\n",
    "\t# generate an initial point\n",
    "\tsolution = bounds[:, 0] + rand(len(bounds)) * (bounds[:, 1] - bounds[:, 0])\n",
    "\t# keep track of the change\n",
    "\tchange = 0.0\n",
    "\t# run the gradient descent\n",
    "\tfor i in range(n_iter):\n",
    "\t\t# calculate gradient\n",
    "\t\tgradient = derivative(solution)\n",
    "\t\t# calculate update\n",
    "\t\tnew_change = momentum * change - step_size * gradient\n",
    "\t\t# take a step\n",
    "\t\tsolution = solution + new_change\n",
    "\t\t# save the change\n",
    "\t\tchange = new_change\n",
    "\t\t# evaluate candidate point\n",
    "\t\tsolution_eval = objective(solution)\n",
    "\t\t# store solution\n",
    "\t\tsolutions.append(solution)\n",
    "\t\tscores.append(solution_eval)\n",
    "\t\t# report progress\n",
    "\t\tprint('>%d f(%s) = %.5f' % (i, solution, solution_eval))\n",
    "\treturn [solutions, scores]"
   ]
  },
  {
   "cell_type": "code",
   "execution_count": 76,
   "id": "public-azerbaijan",
   "metadata": {},
   "outputs": [
    {
     "name": "stdout",
     "output_type": "stream",
     "text": [
      ">0 f([0.83156549]) = 1.82281\n",
      ">1 f([0.68570653]) = 1.63337\n",
      ">2 f([0.49509902]) = 1.30266\n",
      ">3 f([0.23644652]) = 0.68603\n",
      ">4 f([-0.11289265]) = -0.33564\n",
      ">5 f([-0.50947204]) = -1.19656\n",
      ">6 f([-0.71981302]) = -1.14506\n",
      ">7 f([-0.62285393]) = -1.23479\n",
      ">8 f([-0.56434426]) = -1.23213\n",
      ">9 f([-0.58380675]) = -1.23730\n",
      ">10 f([-0.60555569]) = -1.23809\n",
      ">11 f([-0.60323941]) = -1.23826\n",
      ">12 f([-0.59639886]) = -1.23841\n",
      ">13 f([-0.59607811]) = -1.23841\n",
      ">14 f([-0.59807962]) = -1.23842\n",
      ">15 f([-0.59848749]) = -1.23842\n",
      ">16 f([-0.59794924]) = -1.23843\n",
      ">17 f([-0.59774469]) = -1.23842\n",
      ">18 f([-0.59787473]) = -1.23843\n",
      ">19 f([-0.59795609]) = -1.23843\n",
      ">20 f([-0.59792957]) = -1.23843\n",
      ">21 f([-0.59790109]) = -1.23843\n",
      ">22 f([-0.59790468]) = -1.23843\n",
      ">23 f([-0.59791377]) = -1.23843\n",
      ">24 f([-0.59791409]) = -1.23843\n",
      ">25 f([-0.59791141]) = -1.23843\n",
      ">26 f([-0.59791091]) = -1.23843\n",
      ">27 f([-0.59791163]) = -1.23843\n",
      ">28 f([-0.5979119]) = -1.23843\n",
      ">29 f([-0.59791172]) = -1.23843\n"
     ]
    },
    {
     "data": {
      "image/png": "[encoded data removed]",
      "text/plain": [
       "<Figure size 432x288 with 1 Axes>"
      ]
     },
     "metadata": {
      "needs_background": "light"
     },
     "output_type": "display_data"
    }
   ],
   "source": [
    "# seed the pseudo random number generator\n",
    "seed(4)\n",
    "# define range for input\n",
    "bounds = asarray([[-1.0, 1.0]])\n",
    "# define the total iterations\n",
    "n_iter = 30\n",
    "# define the step size\n",
    "step_size = 0.1\n",
    "# define momentum\n",
    "momentum = 0.3\n",
    "# perform the gradient descent search with momentum\n",
    "solutions, scores = gradient_descent_with_momentum(objective, derivative, bounds, n_iter, step_size, momentum)\n",
    "# sample input range uniformly at 0.1 increments\n",
    "inputs = arange(bounds[0,0], bounds[0,1]+0.1, 0.1)\n",
    "# compute targets\n",
    "results = objective(inputs)\n",
    "# create a line plot of input vs result\n",
    "pyplot.plot(inputs, results)\n",
    "# plot the solutions found\n",
    "pyplot.plot(solutions, scores, '.-', color='red')\n",
    "# show the plot\n",
    "pyplot.show()"
   ]
  },
  {
   "cell_type": "code",
   "execution_count": null,
   "id": "outside-orange",
   "metadata": {},
   "outputs": [],
   "source": []
  }
 ],
 "metadata": {
  "kernelspec": {
   "display_name": "Python 3.9.12 ('Game-engine')",
   "language": "python",
   "name": "python3"
  },
  "language_info": {
   "codemirror_mode": {
    "name": "ipython",
    "version": 3
   },
   "file_extension": ".py",
   "mimetype": "text/x-python",
   "name": "python",
   "nbconvert_exporter": "python",
   "pygments_lexer": "ipython3",
   "version": "3.9.12"
  },
  "vscode": {
   "interpreter": {
    "hash": "94eba5e934f2c23251ea0da30f5ab45f2b80222c512857eab7c731941d52b93a"
   }
  }
 },
 "nbformat": 4,
 "nbformat_minor": 5
}
