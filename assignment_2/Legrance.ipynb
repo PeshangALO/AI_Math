{
 "cells": [
  {
   "cell_type": "code",
   "execution_count": 109,
   "id": "cd73d327",
   "metadata": {},
   "outputs": [],
   "source": [
    "import numpy as np\n",
    "from scipy.linalg import cholesky, solve_triangular, cho_solve, cho_factor\n",
    "from scipy.linalg import solve\n",
    "from scipy.optimize import minimize"
   ]
  },
  {
   "cell_type": "code",
   "execution_count": 110,
   "id": "outside-orange",
   "metadata": {},
   "outputs": [],
   "source": [
    "A = np.array([\n",
    "    [26, 10, 2, 1],\n",
    "    [1, 14, -5, 1],\n",
    "    [2, -5, 0, 0],\n",
    "    [1, 1, 0, 0]])\n",
    "\n",
    "b = np.array([-1,-1,2,1]).reshape(-1,1)\n",
    "\n",
    "sol = solve(A, b)"
   ]
  },
  {
   "cell_type": "code",
   "execution_count": 111,
   "id": "22ce69ab",
   "metadata": {},
   "outputs": [
    {
     "data": {
      "text/plain": [
       "array([[  1.        ],\n",
       "       [  0.        ],\n",
       "       [ -3.57142857],\n",
       "       [-19.85714286]])"
      ]
     },
     "execution_count": 111,
     "metadata": {},
     "output_type": "execute_result"
    }
   ],
   "source": [
    "sol"
   ]
  },
  {
   "cell_type": "code",
   "execution_count": 112,
   "id": "e5c3aa04",
   "metadata": {},
   "outputs": [],
   "source": [
    "def f(x,y):\n",
    "    return 26*x**2+10*x*y+7*y**2+x+y+2"
   ]
  },
  {
   "cell_type": "code",
   "execution_count": 113,
   "id": "5b5e8775",
   "metadata": {},
   "outputs": [
    {
     "data": {
      "text/plain": [
       "array([29.])"
      ]
     },
     "execution_count": 113,
     "metadata": {},
     "output_type": "execute_result"
    }
   ],
   "source": [
    "\n",
    "f(*sol[:2])"
   ]
  },
  {
   "cell_type": "markdown",
   "id": "3b5998a1",
   "metadata": {},
   "source": []
  },
  {
   "cell_type": "markdown",
   "id": "6e4d4456",
   "metadata": {},
   "source": [
    "Using scipy.optimize"
   ]
  },
  {
   "cell_type": "code",
   "execution_count": 114,
   "id": "65d45431",
   "metadata": {},
   "outputs": [],
   "source": [
    "def f(x):\n",
    "    return 26*x[0]**2+10*x[0]*x[1]+7*x[1]**2+x[0]+x[1]+2"
   ]
  },
  {
   "cell_type": "code",
   "execution_count": 115,
   "id": "fdb86cb2",
   "metadata": {},
   "outputs": [],
   "source": [
    "cons = ({'type': 'eq',\n",
    "         'fun' : lambda x: np.array([2*x[0] - 5*x[1] - 2, x[0] + x[1] - 1])})"
   ]
  },
  {
   "cell_type": "code",
   "execution_count": 130,
   "id": "047abf38",
   "metadata": {},
   "outputs": [],
   "source": [
    "x0 = np.array([3, 2])\n",
    "\n",
    "res = minimize(f, x0,constraints=cons)\n"
   ]
  },
  {
   "cell_type": "code",
   "execution_count": 131,
   "id": "49bcc2bc",
   "metadata": {},
   "outputs": [
    {
     "data": {
      "text/plain": [
       "29.00000000000002"
      ]
     },
     "execution_count": 131,
     "metadata": {},
     "output_type": "execute_result"
    }
   ],
   "source": [
    "res.fun"
   ]
  },
  {
   "cell_type": "code",
   "execution_count": 132,
   "metadata": {},
   "outputs": [
    {
     "data": {
      "text/plain": [
       "array([1., 0.])"
      ]
     },
     "execution_count": 132,
     "metadata": {},
     "output_type": "execute_result"
    }
   ],
   "source": [
    "res.x"
   ]
  }
 ],
 "metadata": {
  "kernelspec": {
   "display_name": "Python 3.9.12 ('Game-engine')",
   "language": "python",
   "name": "python3"
  },
  "language_info": {
   "codemirror_mode": {
    "name": "ipython",
    "version": 3
   },
   "file_extension": ".py",
   "mimetype": "text/x-python",
   "name": "python",
   "nbconvert_exporter": "python",
   "pygments_lexer": "ipython3",
   "version": "3.9.12"
  },
  "vscode": {
   "interpreter": {
    "hash": "94eba5e934f2c23251ea0da30f5ab45f2b80222c512857eab7c731941d52b93a"
   }
  }
 },
 "nbformat": 4,
 "nbformat_minor": 5
}
